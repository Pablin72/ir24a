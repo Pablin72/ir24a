{
 "cells": [
  {
   "cell_type": "code",
   "execution_count": 6,
   "metadata": {},
   "outputs": [
    {
     "name": "stdout",
     "output_type": "stream",
     "text": [
      "   id recipe-name     description ingredients steps\n",
      "0   1    No Title  No Description          []    []\n"
     ]
    }
   ],
   "source": [
    "import requests\n",
    "from bs4 import BeautifulSoup\n",
    "import pandas as pd\n",
    "\n",
    "def get_recipe_data(url):\n",
    "    response = requests.get(url)\n",
    "    soup = BeautifulSoup(response.text, 'html.parser')\n",
    "    \n",
    "    # Obtener el nombre de la receta desde el título de la página\n",
    "    recipe_name_tag = soup.find('title')\n",
    "    recipe_name = recipe_name_tag.get_text(strip=True) if recipe_name_tag else 'No Title'\n",
    "    \n",
    "    # Obtener la descripción desde una meta etiqueta\n",
    "    description_tag = soup.find('meta', {'name': 'description'})\n",
    "    description = description_tag['content'] if description_tag else 'No Description'\n",
    "    \n",
    "    # Obtener los ingredientes y pasos de las listas específicas\n",
    "    ingredients = [li.get_text(strip=True) for li in soup.find_all('li', class_='ingredient')]\n",
    "    steps = [p.get_text(strip=True) for p in soup.find_all('p', class_='step')]\n",
    "    \n",
    "    return {\n",
    "        'recipe-name': recipe_name,\n",
    "        'description': description,\n",
    "        'ingredients': ingredients,\n",
    "        'steps': steps\n",
    "    }\n",
    "\n",
    "# Lista de URLs de recetas\n",
    "urls = [\n",
    "    'https://www.allrecipes.com/recipe/104493/stuffed-strawberries/'\n",
    "]\n",
    "\n",
    "# Crear una lista para almacenar los datos\n",
    "data = []\n",
    "\n",
    "# Rastrear cada URL y recopilar los datos\n",
    "for i, url in enumerate(urls):\n",
    "    recipe_data = get_recipe_data(url)\n",
    "    if recipe_data:\n",
    "        recipe_data['id'] = i + 1  # Agregar un ID único a cada receta\n",
    "        data.append(recipe_data)\n",
    "\n",
    "# Crear el DataFrame\n",
    "df = pd.DataFrame(data, columns=['id', 'recipe-name', 'description', 'ingredients', 'steps'])\n",
    "\n",
    "# Mostrar el DataFrame\n",
    "print(df)\n",
    "\n",
    "# Guardar el DataFrame en un archivo CSV si lo deseas\n",
    "df.to_csv('recipes.csv', index=False)\n"
   ]
  },
  {
   "cell_type": "code",
   "execution_count": null,
   "metadata": {},
   "outputs": [],
   "source": []
  }
 ],
 "metadata": {
  "kernelspec": {
   "display_name": "Python 3",
   "language": "python",
   "name": "python3"
  },
  "language_info": {
   "codemirror_mode": {
    "name": "ipython",
    "version": 3
   },
   "file_extension": ".py",
   "mimetype": "text/x-python",
   "name": "python",
   "nbconvert_exporter": "python",
   "pygments_lexer": "ipython3",
   "version": "3.8.10"
  }
 },
 "nbformat": 4,
 "nbformat_minor": 2
}
