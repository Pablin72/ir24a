{
 "cells": [
  {
   "cell_type": "markdown",
   "id": "3678b6ceab34c216",
   "metadata": {
    "collapsed": false
   },
   "source": [
    "# Basic Boolean Search in Documents\n",
    "\n",
    "## Objective\n",
    "Expand the simple term search functionality to include Boolean search capabilities. This will allow users to perform more complex queries by combining multiple search terms using Boolean operators.\n",
    "\n",
    "## Problem Description\n",
    "You must enhance the existing search engine from the previous exercise to support Boolean operators: AND, OR, and NOT. This will enable the retrieval of documents based on the logical relationships between multiple terms.\n",
    "\n",
    "## Requirements\n",
    "\n",
    "### Step 1: Update Data Preparation\n",
    "Ensure that the documents are still loaded and preprocessed from the previous task. The data should be clean and ready for advanced querying.\n",
    "\n",
    "### Step 2: Create an Inverted Index\n",
    "\n",
    "Create an inverted index from the documents. This index maps each word to the set of document IDs in which that word appears. This facilitates word lookup in the search process.\n",
    "\n",
    "### Step 3: Query Processing\n",
    "- **Parse the Query**: Implement a function to parse the input query to identify the terms and operators.\n",
    "- **Search Documents**: Based on the parsed query, implement the logic to retrieve and rank the documents according to the Boolean expressions.\n",
    "\n",
    "### Step 4: Displaying Results\n",
    "- **Output the Results**: Display the documents that match the query criteria. Include functionalities to handle queries that result in no matching documents.\n",
    "\n",
    "## Evaluation Criteria\n",
    "- **Correctness**: The Boolean search implementation should correctly interpret and process the queries according to the Boolean logic.\n",
    "- **Efficiency**: Consider the efficiency of your search process, especially as the complexity of queries increases.\n",
    "- **User Experience**: Ensure that the interface for inputting queries and viewing results is user-friendly.\n",
    "\n",
    "This exercise will deepen your understanding of how search engines process and respond to user queries."
   ]
  },
  {
   "cell_type": "code",
   "execution_count": 9,
   "id": "initial_id",
   "metadata": {
    "collapsed": true
   },
   "outputs": [],
   "source": [
    "import os\n",
    "\n",
    "folder_path = '../data/'\n",
    "\n",
    "files = os.listdir(folder_path)\n",
    "\n",
    "txt_files = [file for file in files if file.endswith('.txt')]\n",
    "\n",
    "documents = {}\n",
    "\n",
    "for txt_file in txt_files:\n",
    "    file_path = os.path.join(folder_path, txt_file)\n",
    "    with open(file_path, 'r', encoding='utf-8') as file:\n",
    "        content = file.read()\n",
    "        documents[txt_file] = content.lower().split()  # Storing lowercase words as list\n",
    "\n"
   ]
  },
  {
   "cell_type": "code",
   "execution_count": 10,
   "id": "49cda989",
   "metadata": {},
   "outputs": [],
   "source": [
    "inverted_index = {}\n",
    "\n",
    "for doc_id, words in documents.items():\n",
    "    for word in words:\n",
    "        if word not in inverted_index:\n",
    "            inverted_index[word] = set()\n",
    "        inverted_index[word].add(doc_id)\n"
   ]
  },
  {
   "cell_type": "code",
   "execution_count": 11,
   "id": "d18e248f",
   "metadata": {},
   "outputs": [
    {
     "name": "stdout",
     "output_type": "stream",
     "text": [
      "Documents matching the query:\n",
      "pg47948.txt\n",
      "pg84.txt\n",
      "pg1513.txt\n",
      "pg2701.txt\n"
     ]
    }
   ],
   "source": [
    "def parse_query(query):\n",
    "    terms = query.lower().split()\n",
    "    operators = set(('and', 'or', 'not'))\n",
    "    parsed_query = {'terms': [], 'operators': []}\n",
    "    for term in terms:\n",
    "        if term in operators:\n",
    "            parsed_query['operators'].append(term)\n",
    "        else:\n",
    "            parsed_query['terms'].append(term)\n",
    "    return parsed_query\n",
    "\n",
    "def search_documents(parsed_query):\n",
    "    search_results = None\n",
    "    for term in parsed_query['terms']:\n",
    "        if term in inverted_index:\n",
    "            term_results = inverted_index[term]\n",
    "            if search_results is None:\n",
    "                search_results = term_results\n",
    "            else:\n",
    "                if parsed_query['operators']:\n",
    "                    operator = parsed_query['operators'].pop(0)\n",
    "                    if operator == 'and':\n",
    "                        search_results = search_results.intersection(term_results)\n",
    "                    elif operator == 'or':\n",
    "                        search_results = search_results.union(term_results)\n",
    "                    elif operator == 'not':\n",
    "                        search_results = search_results.difference(term_results)\n",
    "    return search_results\n",
    "\n",
    "query = input('Input your Boolean search query: ')\n",
    "parsed_query = parse_query(query)\n",
    "results = search_documents(parsed_query)\n",
    "\n",
    "if results:\n",
    "    print('Documents matching the query:')\n",
    "    for result in results:\n",
    "        print(result)\n",
    "else:\n",
    "    print('No documents found matching the query.')\n"
   ]
  }
 ],
 "metadata": {
  "kernelspec": {
   "display_name": "Python 3",
   "language": "python",
   "name": "python3"
  },
  "language_info": {
   "codemirror_mode": {
    "name": "ipython",
    "version": 3
   },
   "file_extension": ".py",
   "mimetype": "text/x-python",
   "name": "python",
   "nbconvert_exporter": "python",
   "pygments_lexer": "ipython3",
   "version": "3.11.9"
  }
 },
 "nbformat": 4,
 "nbformat_minor": 5
}
