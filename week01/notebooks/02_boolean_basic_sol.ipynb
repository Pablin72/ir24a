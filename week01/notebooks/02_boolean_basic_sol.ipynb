{
 "cells": [
  {
   "cell_type": "markdown",
   "id": "3678b6ceab34c216",
   "metadata": {
    "collapsed": false
   },
   "source": [
    "# Basic Boolean Search in Documents\n",
    "\n",
    "## Objective\n",
    "Expand the simple term search functionality to include Boolean search capabilities. This will allow users to perform more complex queries by combining multiple search terms using Boolean operators.\n",
    "\n",
    "## Problem Description\n",
    "You must enhance the existing search engine from the previous exercise to support Boolean operators: AND, OR, and NOT. This will enable the retrieval of documents based on the logical relationships between multiple terms."
   ]
  },
  {
   "cell_type": "markdown",
   "id": "484018ccdc408568",
   "metadata": {
    "collapsed": false
   },
   "source": [
    "### Step 1: Data Preparation\n",
    "Ensure that the documents are still loaded and preprocessed from the previous task. The data should be clean and ready for advanced querying.\n",
    "Write a function to load and preprocess the text documents from a specified directory. This step involves reading each file, converting the text to lowercase for uniform processing, and storing the results in a dictionary."
   ]
  },
  {
   "cell_type": "code",
   "execution_count": 1,
   "id": "initial_id",
   "metadata": {
    "ExecuteTime": {
     "end_time": "2024-04-29T23:01:28.095649Z",
     "start_time": "2024-04-29T23:01:27.819402Z"
    }
   },
   "outputs": [
    {
     "name": "stdout",
     "output_type": "stream",
     "text": [
      "Document: datasource.txt\n",
      "Content: go to https://www.gutenberg.org/browse/scores/top#books-last1\n",
      "download all 100 books in txt\n",
      "populate /data folder...\n",
      "Document: pg100.txt\n",
      "Content: ﻿the project gutenberg ebook of the complete works of william shakespeare\n",
      "    \n",
      "this ebook is for the use of anyone anywhere in the united states and\n",
      "most other parts of the world at no cost and with a...\n",
      "Document: pg1342.txt\n",
      "Content: ﻿the project gutenberg ebook of pride and prejudice\n",
      "    \n",
      "this ebook is for the use of anyone anywhere in the united states and\n",
      "most other parts of the world at no cost and with almost no restrictions\n",
      "...\n",
      "Document: pg145.txt\n",
      "Content: ﻿the project gutenberg ebook of middlemarch\n",
      "    \n",
      "this ebook is for the use of anyone anywhere in the united states and\n",
      "most other parts of the world at no cost and with almost no restrictions\n",
      "whatsoev...\n",
      "Document: pg1513.txt\n",
      "Content: ﻿the project gutenberg ebook of romeo and juliet\n",
      "    \n",
      "this ebook is for the use of anyone anywhere in the united states and\n",
      "most other parts of the world at no cost and with almost no restrictions\n",
      "wha...\n",
      "Document: pg16389.txt\n",
      "Content: ﻿the project gutenberg ebook of the enchanted april\n",
      "    \n",
      "this ebook is for the use of anyone anywhere in the united states and\n",
      "most other parts of the world at no cost and with almost no restrictions\n",
      "...\n"
     ]
    }
   ],
   "source": [
    "import os\n",
    "\n",
    "# Define the path to the directory containing the text files\n",
    "CORPUS_DIR = '../data'\n",
    "documents = {}\n",
    "for filename in os.listdir(CORPUS_DIR):\n",
    "    if filename.endswith('.txt'):\n",
    "        file_path = os.path.join(CORPUS_DIR, filename)\n",
    "        with open(file_path, 'r', encoding='utf-8') as file:\n",
    "            documents[filename] = file.read().lower()  # Read and convert to lowercase\n",
    "\n",
    "for doc, content in list(documents.items())[:6]:  # Display the first document's content\n",
    "    print(f'Document: {doc}\\nContent: {content[:200]}...')  # Print first 200 characters\n"
   ]
  },
  {
   "cell_type": "markdown",
   "id": "a0ec435503fd0d29",
   "metadata": {
    "collapsed": false
   },
   "source": [
    "### Step 2: Create an Inverted Index\n",
    "\n",
    "Create an inverted index from the documents. This index maps each word to the set of document IDs in which that word appears. This facilitates word lookup in the search process."
   ]
  },
  {
   "cell_type": "code",
   "execution_count": 5,
   "id": "95ceadeed487515d",
   "metadata": {
    "ExecuteTime": {
     "end_time": "2024-04-29T23:04:56.938588Z",
     "start_time": "2024-04-29T23:04:54.385313Z"
    },
    "collapsed": false
   },
   "outputs": [
    {
     "name": "stdout",
     "output_type": "stream",
     "text": [
      "Word: go\n",
      "Documents: {'pg84.txt', 'pg1513.txt', 'pg42538.txt', 'pg2641.txt', 'pg67979.txt', 'pg37106.txt', 'pg16389.txt', 'pg45368.txt', 'pg47948.txt', 'pg100.txt', 'pg69093.txt', 'pg1342.txt', 'pg2701.txt', 'datasource.txt', 'pg145.txt'}\n",
      "Word: to\n",
      "Documents: {'pg84.txt', 'pg1513.txt', 'pg42538.txt', 'pg2641.txt', 'pg67979.txt', 'pg37106.txt', 'pg16389.txt', 'pg45368.txt', 'pg47948.txt', 'pg100.txt', 'pg69093.txt', 'pg1342.txt', 'pg2701.txt', 'datasource.txt', 'pg145.txt'}\n",
      "Word: https\n",
      "Documents: {'datasource.txt'}\n",
      "Word: www\n",
      "Documents: {'pg84.txt', 'pg1513.txt', 'pg42538.txt', 'pg2641.txt', 'pg67979.txt', 'pg37106.txt', 'pg16389.txt', 'pg45368.txt', 'pg47948.txt', 'pg100.txt', 'pg69093.txt', 'pg1342.txt', 'pg2701.txt', 'datasource.txt', 'pg145.txt'}\n",
      "Word: gutenberg\n",
      "Documents: {'pg84.txt', 'pg1513.txt', 'pg42538.txt', 'pg2641.txt', 'pg67979.txt', 'pg37106.txt', 'pg16389.txt', 'pg45368.txt', 'pg47948.txt', 'pg100.txt', 'pg69093.txt', 'pg1342.txt', 'pg2701.txt', 'datasource.txt', 'pg145.txt'}\n",
      "Word: org\n",
      "Documents: {'pg84.txt', 'pg1513.txt', 'pg42538.txt', 'pg2641.txt', 'pg67979.txt', 'pg37106.txt', 'pg16389.txt', 'pg45368.txt', 'pg47948.txt', 'pg100.txt', 'pg69093.txt', 'pg1342.txt', 'pg2701.txt', 'datasource.txt', 'pg145.txt'}\n",
      "Word: browse\n",
      "Documents: {'pg100.txt', 'pg45368.txt', 'datasource.txt'}\n",
      "Word: scores\n",
      "Documents: {'pg42538.txt', 'pg67979.txt', 'pg45368.txt', 'pg100.txt', 'pg1342.txt', 'pg2701.txt', 'datasource.txt', 'pg145.txt'}\n",
      "Word: top\n",
      "Documents: {'pg84.txt', 'pg42538.txt', 'pg2641.txt', 'pg67979.txt', 'pg37106.txt', 'pg16389.txt', 'pg45368.txt', 'pg47948.txt', 'pg100.txt', 'pg69093.txt', 'pg1342.txt', 'pg2701.txt', 'datasource.txt', 'pg145.txt'}\n",
      "Word: books\n",
      "Documents: {'pg84.txt', 'pg1513.txt', 'pg42538.txt', 'pg2641.txt', 'pg67979.txt', 'pg37106.txt', 'pg16389.txt', 'pg45368.txt', 'pg47948.txt', 'pg100.txt', 'pg69093.txt', 'pg1342.txt', 'pg2701.txt', 'datasource.txt', 'pg145.txt'}\n",
      "Word: last1\n",
      "Documents: {'datasource.txt'}\n",
      "Word: download\n",
      "Documents: {'datasource.txt'}\n",
      "Word: all\n",
      "Documents: {'pg84.txt', 'pg1513.txt', 'pg42538.txt', 'pg2641.txt', 'pg67979.txt', 'pg37106.txt', 'pg16389.txt', 'pg45368.txt', 'pg47948.txt', 'pg100.txt', 'pg69093.txt', 'pg1342.txt', 'pg2701.txt', 'datasource.txt', 'pg145.txt'}\n",
      "Word: 100\n",
      "Documents: {'pg42538.txt', 'pg37106.txt', 'pg16389.txt', 'pg45368.txt', 'pg47948.txt', 'pg100.txt', 'pg69093.txt', 'pg2701.txt', 'datasource.txt'}\n",
      "Word: in\n",
      "Documents: {'pg84.txt', 'pg1513.txt', 'pg42538.txt', 'pg2641.txt', 'pg67979.txt', 'pg37106.txt', 'pg16389.txt', 'pg45368.txt', 'pg47948.txt', 'pg100.txt', 'pg69093.txt', 'pg1342.txt', 'pg2701.txt', 'datasource.txt', 'pg145.txt'}\n",
      "Word: txt\n",
      "Documents: {'datasource.txt'}\n",
      "Word: populate\n",
      "Documents: {'datasource.txt'}\n",
      "Word: data\n",
      "Documents: {'pg84.txt', 'pg1513.txt', 'pg42538.txt', 'pg2641.txt', 'pg67979.txt', 'pg37106.txt', 'pg16389.txt', 'pg45368.txt', 'pg47948.txt', 'pg100.txt', 'pg69093.txt', 'pg1342.txt', 'pg2701.txt', 'datasource.txt', 'pg145.txt'}\n",
      "Word: folder\n",
      "Documents: {'pg2701.txt', 'datasource.txt'}\n",
      "Word: the\n",
      "Documents: {'pg84.txt', 'pg1513.txt', 'pg42538.txt', 'pg2641.txt', 'pg67979.txt', 'pg37106.txt', 'pg16389.txt', 'pg45368.txt', 'pg47948.txt', 'pg100.txt', 'pg69093.txt', 'pg1342.txt', 'pg2701.txt', 'pg145.txt'}\n",
      "Word: project\n",
      "Documents: {'pg84.txt', 'pg1513.txt', 'pg42538.txt', 'pg2641.txt', 'pg67979.txt', 'pg37106.txt', 'pg16389.txt', 'pg45368.txt', 'pg47948.txt', 'pg100.txt', 'pg69093.txt', 'pg1342.txt', 'pg2701.txt', 'pg145.txt'}\n",
      "Word: ebook\n",
      "Documents: {'pg84.txt', 'pg1513.txt', 'pg42538.txt', 'pg2641.txt', 'pg67979.txt', 'pg37106.txt', 'pg16389.txt', 'pg45368.txt', 'pg47948.txt', 'pg100.txt', 'pg69093.txt', 'pg1342.txt', 'pg2701.txt', 'pg145.txt'}\n",
      "Word: of\n",
      "Documents: {'pg84.txt', 'pg1513.txt', 'pg42538.txt', 'pg2641.txt', 'pg67979.txt', 'pg37106.txt', 'pg16389.txt', 'pg45368.txt', 'pg47948.txt', 'pg100.txt', 'pg69093.txt', 'pg1342.txt', 'pg2701.txt', 'pg145.txt'}\n",
      "Word: complete\n",
      "Documents: {'pg84.txt', 'pg42538.txt', 'pg2641.txt', 'pg67979.txt', 'pg37106.txt', 'pg16389.txt', 'pg45368.txt', 'pg47948.txt', 'pg100.txt', 'pg69093.txt', 'pg1342.txt', 'pg2701.txt', 'pg145.txt'}\n",
      "Word: works\n",
      "Documents: {'pg84.txt', 'pg1513.txt', 'pg42538.txt', 'pg2641.txt', 'pg67979.txt', 'pg37106.txt', 'pg16389.txt', 'pg45368.txt', 'pg47948.txt', 'pg100.txt', 'pg69093.txt', 'pg1342.txt', 'pg2701.txt', 'pg145.txt'}\n",
      "Word: william\n",
      "Documents: {'pg84.txt', 'pg1513.txt', 'pg42538.txt', 'pg45368.txt', 'pg47948.txt', 'pg100.txt', 'pg69093.txt', 'pg1342.txt', 'pg2701.txt', 'pg145.txt'}\n",
      "Word: shakespeare\n",
      "Documents: {'pg84.txt', 'pg1513.txt', 'pg42538.txt', 'pg67979.txt', 'pg37106.txt', 'pg16389.txt', 'pg45368.txt', 'pg100.txt', 'pg2701.txt', 'pg145.txt'}\n",
      "Word: this\n",
      "Documents: {'pg84.txt', 'pg1513.txt', 'pg42538.txt', 'pg2641.txt', 'pg67979.txt', 'pg37106.txt', 'pg16389.txt', 'pg45368.txt', 'pg47948.txt', 'pg100.txt', 'pg69093.txt', 'pg1342.txt', 'pg2701.txt', 'pg145.txt'}\n",
      "Word: is\n",
      "Documents: {'pg84.txt', 'pg1513.txt', 'pg42538.txt', 'pg2641.txt', 'pg67979.txt', 'pg37106.txt', 'pg16389.txt', 'pg45368.txt', 'pg47948.txt', 'pg100.txt', 'pg69093.txt', 'pg1342.txt', 'pg2701.txt', 'pg145.txt'}\n",
      "Word: for\n",
      "Documents: {'pg84.txt', 'pg1513.txt', 'pg42538.txt', 'pg2641.txt', 'pg67979.txt', 'pg37106.txt', 'pg16389.txt', 'pg45368.txt', 'pg47948.txt', 'pg100.txt', 'pg69093.txt', 'pg1342.txt', 'pg2701.txt', 'pg145.txt'}\n",
      "Word: use\n",
      "Documents: {'pg84.txt', 'pg1513.txt', 'pg42538.txt', 'pg2641.txt', 'pg67979.txt', 'pg37106.txt', 'pg16389.txt', 'pg45368.txt', 'pg47948.txt', 'pg100.txt', 'pg69093.txt', 'pg1342.txt', 'pg2701.txt', 'pg145.txt'}\n",
      "Word: anyone\n",
      "Documents: {'pg84.txt', 'pg1513.txt', 'pg42538.txt', 'pg2641.txt', 'pg67979.txt', 'pg37106.txt', 'pg16389.txt', 'pg45368.txt', 'pg47948.txt', 'pg100.txt', 'pg69093.txt', 'pg1342.txt', 'pg2701.txt', 'pg145.txt'}\n",
      "Word: anywhere\n",
      "Documents: {'pg84.txt', 'pg1513.txt', 'pg42538.txt', 'pg2641.txt', 'pg67979.txt', 'pg37106.txt', 'pg16389.txt', 'pg45368.txt', 'pg47948.txt', 'pg100.txt', 'pg69093.txt', 'pg1342.txt', 'pg2701.txt', 'pg145.txt'}\n",
      "Word: united\n",
      "Documents: {'pg84.txt', 'pg1513.txt', 'pg42538.txt', 'pg2641.txt', 'pg67979.txt', 'pg37106.txt', 'pg16389.txt', 'pg45368.txt', 'pg47948.txt', 'pg100.txt', 'pg69093.txt', 'pg1342.txt', 'pg2701.txt', 'pg145.txt'}\n",
      "Word: states\n",
      "Documents: {'pg84.txt', 'pg1513.txt', 'pg42538.txt', 'pg2641.txt', 'pg67979.txt', 'pg37106.txt', 'pg16389.txt', 'pg45368.txt', 'pg47948.txt', 'pg100.txt', 'pg69093.txt', 'pg1342.txt', 'pg2701.txt', 'pg145.txt'}\n",
      "Word: and\n",
      "Documents: {'pg84.txt', 'pg1513.txt', 'pg42538.txt', 'pg2641.txt', 'pg67979.txt', 'pg37106.txt', 'pg16389.txt', 'pg45368.txt', 'pg47948.txt', 'pg100.txt', 'pg69093.txt', 'pg1342.txt', 'pg2701.txt', 'pg145.txt'}\n",
      "Word: most\n",
      "Documents: {'pg84.txt', 'pg1513.txt', 'pg42538.txt', 'pg2641.txt', 'pg67979.txt', 'pg37106.txt', 'pg16389.txt', 'pg45368.txt', 'pg47948.txt', 'pg100.txt', 'pg69093.txt', 'pg1342.txt', 'pg2701.txt', 'pg145.txt'}\n",
      "Word: other\n",
      "Documents: {'pg84.txt', 'pg1513.txt', 'pg42538.txt', 'pg2641.txt', 'pg67979.txt', 'pg37106.txt', 'pg16389.txt', 'pg45368.txt', 'pg47948.txt', 'pg100.txt', 'pg69093.txt', 'pg1342.txt', 'pg2701.txt', 'pg145.txt'}\n",
      "Word: parts\n",
      "Documents: {'pg84.txt', 'pg1513.txt', 'pg42538.txt', 'pg2641.txt', 'pg67979.txt', 'pg37106.txt', 'pg16389.txt', 'pg45368.txt', 'pg47948.txt', 'pg100.txt', 'pg69093.txt', 'pg1342.txt', 'pg2701.txt', 'pg145.txt'}\n",
      "Word: world\n",
      "Documents: {'pg84.txt', 'pg1513.txt', 'pg42538.txt', 'pg2641.txt', 'pg67979.txt', 'pg37106.txt', 'pg16389.txt', 'pg45368.txt', 'pg47948.txt', 'pg100.txt', 'pg69093.txt', 'pg1342.txt', 'pg2701.txt', 'pg145.txt'}\n",
      "Word: at\n",
      "Documents: {'pg84.txt', 'pg1513.txt', 'pg42538.txt', 'pg2641.txt', 'pg67979.txt', 'pg37106.txt', 'pg16389.txt', 'pg45368.txt', 'pg47948.txt', 'pg100.txt', 'pg69093.txt', 'pg1342.txt', 'pg2701.txt', 'pg145.txt'}\n",
      "Word: no\n",
      "Documents: {'pg84.txt', 'pg1513.txt', 'pg42538.txt', 'pg2641.txt', 'pg67979.txt', 'pg37106.txt', 'pg16389.txt', 'pg45368.txt', 'pg47948.txt', 'pg100.txt', 'pg69093.txt', 'pg1342.txt', 'pg2701.txt', 'pg145.txt'}\n",
      "Word: cost\n",
      "Documents: {'pg84.txt', 'pg1513.txt', 'pg42538.txt', 'pg2641.txt', 'pg67979.txt', 'pg37106.txt', 'pg16389.txt', 'pg45368.txt', 'pg47948.txt', 'pg100.txt', 'pg69093.txt', 'pg1342.txt', 'pg2701.txt', 'pg145.txt'}\n",
      "Word: with\n",
      "Documents: {'pg84.txt', 'pg1513.txt', 'pg42538.txt', 'pg2641.txt', 'pg67979.txt', 'pg37106.txt', 'pg16389.txt', 'pg45368.txt', 'pg47948.txt', 'pg100.txt', 'pg69093.txt', 'pg1342.txt', 'pg2701.txt', 'pg145.txt'}\n",
      "Word: almost\n",
      "Documents: {'pg84.txt', 'pg1513.txt', 'pg42538.txt', 'pg2641.txt', 'pg67979.txt', 'pg37106.txt', 'pg16389.txt', 'pg45368.txt', 'pg47948.txt', 'pg100.txt', 'pg69093.txt', 'pg1342.txt', 'pg2701.txt', 'pg145.txt'}\n",
      "Word: restrictions\n",
      "Documents: {'pg84.txt', 'pg1513.txt', 'pg42538.txt', 'pg2641.txt', 'pg67979.txt', 'pg37106.txt', 'pg16389.txt', 'pg45368.txt', 'pg47948.txt', 'pg100.txt', 'pg69093.txt', 'pg1342.txt', 'pg2701.txt', 'pg145.txt'}\n",
      "Word: whatsoever\n",
      "Documents: {'pg84.txt', 'pg1513.txt', 'pg42538.txt', 'pg2641.txt', 'pg67979.txt', 'pg37106.txt', 'pg16389.txt', 'pg45368.txt', 'pg47948.txt', 'pg100.txt', 'pg69093.txt', 'pg1342.txt', 'pg2701.txt', 'pg145.txt'}\n",
      "Word: you\n",
      "Documents: {'pg84.txt', 'pg1513.txt', 'pg42538.txt', 'pg2641.txt', 'pg67979.txt', 'pg37106.txt', 'pg16389.txt', 'pg45368.txt', 'pg47948.txt', 'pg100.txt', 'pg69093.txt', 'pg1342.txt', 'pg2701.txt', 'pg145.txt'}\n",
      "Word: may\n",
      "Documents: {'pg84.txt', 'pg1513.txt', 'pg42538.txt', 'pg2641.txt', 'pg67979.txt', 'pg37106.txt', 'pg16389.txt', 'pg45368.txt', 'pg47948.txt', 'pg100.txt', 'pg69093.txt', 'pg1342.txt', 'pg2701.txt', 'pg145.txt'}\n",
      "Word: copy\n",
      "Documents: {'pg84.txt', 'pg1513.txt', 'pg42538.txt', 'pg2641.txt', 'pg67979.txt', 'pg37106.txt', 'pg16389.txt', 'pg45368.txt', 'pg47948.txt', 'pg100.txt', 'pg69093.txt', 'pg1342.txt', 'pg2701.txt', 'pg145.txt'}\n"
     ]
    }
   ],
   "source": [
    "import re\n",
    "\n",
    "inverted_index = {}\n",
    "for doc_id, content in documents.items():\n",
    "    words = re.findall(r'\\w+', content)  # Extract words\n",
    "    for word in words:\n",
    "        if word not in inverted_index:\n",
    "            inverted_index[word] = set()\n",
    "        inverted_index[word].add(doc_id)\n",
    "\n",
    "# Display a sample of the inverted index\n",
    "for word, docs in list(inverted_index.items())[:50]:  # Display first 5 entries\n",
    "    print(f'Word: {word}\\nDocuments: {docs}')\n"
   ]
  },
  {
   "cell_type": "markdown",
   "id": "6d70fef728dc8f7b",
   "metadata": {
    "collapsed": false
   },
   "source": [
    "### Step 3: Query Processing\n",
    "- **Parse the Query**: Implement a function to parse the input query to identify the terms and operators.\n",
    "- **Search Documents**: Based on the parsed query, implement the logic to retrieve and rank the documents according to the Boolean expressions."
   ]
  },
  {
   "cell_type": "code",
   "execution_count": 9,
   "id": "db504f5e96411235",
   "metadata": {
    "ExecuteTime": {
     "end_time": "2024-04-29T23:06:00.238996Z",
     "start_time": "2024-04-29T23:06:00.212996Z"
    },
    "collapsed": false
   },
   "outputs": [
    {
     "name": "stdout",
     "output_type": "stream",
     "text": [
      "Results for the query 'question': {'pg84.txt', 'pg1513.txt', 'pg42538.txt', 'pg2641.txt', 'pg67979.txt', 'pg37106.txt', 'pg16389.txt', 'pg45368.txt', 'pg47948.txt', 'pg100.txt', 'pg69093.txt', 'pg1342.txt', 'pg2701.txt', 'pg145.txt'}\n"
     ]
    }
   ],
   "source": [
    "def process_query(query, inverted_index):\n",
    "    return inverted_index.get(query, set())\n",
    "\n",
    "# Test the query processor\n",
    "query = \"question\"\n",
    "results = process_query(query, inverted_index)\n",
    "print(f\"Results for the query '{query}': {results}\")\n"
   ]
  },
  {
   "cell_type": "markdown",
   "id": "ee6be4bec62ab788",
   "metadata": {
    "collapsed": false
   },
   "source": [
    "### Step 4: Displaying Results\n",
    "- **Output the Results**: Display the documents that match the query criteria. Include functionalities to handle queries that result in no matching documents."
   ]
  },
  {
   "cell_type": "code",
   "execution_count": 11,
   "id": "570b523c9e37285e",
   "metadata": {
    "ExecuteTime": {
     "end_time": "2024-04-29T23:06:19.808874Z",
     "start_time": "2024-04-29T23:06:17.810784Z"
    },
    "collapsed": false
   },
   "outputs": [
    {
     "name": "stdout",
     "output_type": "stream",
     "text": [
      "Documents found: {'pg84.txt', 'pg1513.txt', 'pg42538.txt', 'pg2641.txt', 'pg67979.txt', 'pg37106.txt', 'pg16389.txt', 'pg45368.txt', 'pg47948.txt', 'pg100.txt', 'pg69093.txt', 'pg1342.txt', 'pg2701.txt', 'datasource.txt', 'pg145.txt'}\n"
     ]
    }
   ],
   "source": [
    "# Try different queries\n",
    "query = input(\"Enter a Boolean query (e.g., 'books'): \")\n",
    "results = process_query(query, inverted_index)\n",
    "if results:\n",
    "    print(\"Documents found:\", results)\n",
    "else:\n",
    "    print(\"No documents found.\")"
   ]
  }
 ],
 "metadata": {
  "kernelspec": {
   "display_name": "Python 3 (ipykernel)",
   "language": "python",
   "name": "python3"
  },
  "language_info": {
   "codemirror_mode": {
    "name": "ipython",
    "version": 3
   },
   "file_extension": ".py",
   "mimetype": "text/x-python",
   "name": "python",
   "nbconvert_exporter": "python",
   "pygments_lexer": "ipython3",
   "version": "3.9.19"
  }
 },
 "nbformat": 4,
 "nbformat_minor": 5
}
